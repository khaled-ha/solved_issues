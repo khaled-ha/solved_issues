{
 "cells": [
  {
   "cell_type": "code",
   "execution_count": 1,
   "id": "38ac6417",
   "metadata": {},
   "outputs": [],
   "source": [
    "import os\n",
    "from time import sleep\n",
    "from threading import Thread"
   ]
  },
  {
   "cell_type": "code",
   "execution_count": 8,
   "id": "239b7277",
   "metadata": {},
   "outputs": [
    {
     "name": "stdout",
     "output_type": "stream",
     "text": [
      "{'_target': <function <listcomp>.<lambda> at 0x7fc172732320>, '_name': 'Thread-30005 (<lambda>)', '_args': (), '_kwargs': {}, '_daemonic': False, '_ident': None, '_native_id': None, '_tstate_lock': None, '_started': <threading.Event object at 0x7fc1735676d0>, '_is_stopped': False, '_initialized': True, '_stderr': <ipykernel.iostream.OutStream object at 0x7fc196007a30>, '_invoke_excepthook': <function _make_invoke_excepthook.<locals>.invoke_excepthook at 0x7fc172732e60>}\n"
     ]
    }
   ],
   "source": [
    "threads = [\n",
    "    Thread(target=(lambda: sleep(60))) for i in range(10000)\n",
    "]\n",
    "print(threads[0].__dict__)"
   ]
  },
  {
   "cell_type": "code",
   "execution_count": null,
   "id": "0edd6089",
   "metadata": {},
   "outputs": [],
   "source": [
    "[t.start() for t in threads]\n",
    "print(f'PID= {os.getpid()}')\n",
    "[t.join() for t in threads]"
   ]
  }
 ],
 "metadata": {
  "kernelspec": {
   "display_name": "Python 3.10.4 64-bit",
   "language": "python",
   "name": "python3"
  },
  "language_info": {
   "codemirror_mode": {
    "name": "ipython",
    "version": 3
   },
   "file_extension": ".py",
   "mimetype": "text/x-python",
   "name": "python",
   "nbconvert_exporter": "python",
   "pygments_lexer": "ipython3",
   "version": "3.10.4"
  },
  "vscode": {
   "interpreter": {
    "hash": "e7370f93d1d0cde622a1f8e1c04877d8463912d04d973331ad4851f04de6915a"
   }
  }
 },
 "nbformat": 4,
 "nbformat_minor": 5
}
