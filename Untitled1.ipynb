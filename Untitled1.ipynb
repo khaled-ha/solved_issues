{
 "cells": [
  {
   "cell_type": "code",
   "execution_count": 1,
   "id": "020f7f94",
   "metadata": {},
   "outputs": [],
   "source": [
    "import math\n",
    "import os\n",
    "import random\n",
    "import re\n",
    "import sys\n",
    "import time\n",
    "from collections import defaultdict"
   ]
  },
  {
   "cell_type": "code",
   "execution_count": 24,
   "id": "35701526",
   "metadata": {},
   "outputs": [],
   "source": [
    "c = 7\n",
    "bombs_positions_by_function = defaultdict(list)\n",
    "grid = ['.......','.......','.......','.......','.......', '.......','.......']"
   ]
  },
  {
   "cell_type": "code",
   "execution_count": 25,
   "id": "029e2f6a",
   "metadata": {},
   "outputs": [],
   "source": [
    "def aribitrary_plantiong(grid, c):\n",
    "    new_grid = []\n",
    "    for r,g in enumerate(grid):\n",
    "        list_row = list(g)\n",
    "        rand_int = random.randint(0,3)\n",
    "        positions = random.sample(range(0,len(list_row)-1), rand_int)\n",
    "        print(positions)\n",
    "        for i,v in enumerate(list_row):\n",
    "            if i in positions:\n",
    "                list_row[i] = '0'\n",
    "                bombs_positions_by_function['arbitrary_bombs'].append(f'{r}:{i}')\n",
    "        new_grid.append(''.join(list_row))\n",
    "    return new_grid"
   ]
  },
  {
   "cell_type": "code",
   "execution_count": 26,
   "id": "ca327089",
   "metadata": {},
   "outputs": [
    {
     "name": "stdout",
     "output_type": "stream",
     "text": [
      "[1]\n",
      "[3]\n",
      "[0]\n",
      "[1, 5]\n",
      "[2]\n",
      "[1, 4, 3]\n",
      "[]\n",
      "['.0.....', '...0...', '0......', '.0...0.', '..0....', '.0.00..', '.......']\n",
      "defaultdict(<class 'list'>, {'arbitrary_bombs': ['0:1', '1:3', '2:0', '3:1', '3:5', '4:2', '5:1', '5:3', '5:4']})\n"
     ]
    }
   ],
   "source": [
    "res = aribitrary_plantiong(grid, c)\n",
    "print(res)\n",
    "print(bombs_positions_by_function)"
   ]
  },
  {
   "cell_type": "code",
   "execution_count": null,
   "id": "d28d8bd4",
   "metadata": {},
   "outputs": [],
   "source": []
  }
 ],
 "metadata": {
  "kernelspec": {
   "display_name": "Python 3 (ipykernel)",
   "language": "python",
   "name": "python3"
  },
  "language_info": {
   "codemirror_mode": {
    "name": "ipython",
    "version": 3
   },
   "file_extension": ".py",
   "mimetype": "text/x-python",
   "name": "python",
   "nbconvert_exporter": "python",
   "pygments_lexer": "ipython3",
   "version": "3.10.9"
  }
 },
 "nbformat": 4,
 "nbformat_minor": 5
}
